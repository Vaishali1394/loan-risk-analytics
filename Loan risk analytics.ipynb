{
  "nbformat": 4,
  "nbformat_minor": 0,
  "metadata": {
    "colab": {
      "private_outputs": true,
      "provenance": []
    },
    "kernelspec": {
      "name": "python3",
      "display_name": "Python 3"
    },
    "language_info": {
      "name": "python"
    }
  },
  "cells": [
    {
      "cell_type": "markdown",
      "source": [
        "# **Loan Risk Analytics**"
      ],
      "metadata": {
        "id": "vd6SrXZUSS0M"
      }
    },
    {
      "cell_type": "markdown",
      "source": [
        "🎯 Project Objective:\n",
        "The objective of this project is to analyze real-world loan data from LendingClub to identify patterns, trends, and risk factors associated with loan defaults.\n",
        "\n",
        "Through exploratory data analysis (EDA), aim is to:\n",
        "- Understand the distribution of key financial variables such as loan amount, interest rate, term, and credit score\n",
        "- Evaluate how borrower characteristics and loan terms impact default risk\n",
        "- Segment borrowers into Low, Medium, and High risk categories using credit score and debt-to-income ratio\n",
        "- Derive insights that can support data-driven decision-making in loan approvals and risk management\n",
        "\n",
        "This project does not include predictive modeling. Instead, the focus is on uncovering business-relevant patterns through detailed analysis and visualization\n"
      ],
      "metadata": {
        "id": "CYM5PDDPDXh4"
      }
    },
    {
      "cell_type": "code",
      "execution_count": null,
      "metadata": {
        "id": "I7Hcw_HaSG0D"
      },
      "outputs": [],
      "source": [
        "import numpy as np\n",
        "import pandas as pd\n",
        "import matplotlib.pyplot as plt\n",
        "import seaborn as sns"
      ]
    },
    {
      "cell_type": "code",
      "source": [
        "df = pd.read_csv('/content/accepted_2007_to_2018Q4.csv')"
      ],
      "metadata": {
        "id": "LnxmNCp7SeVu"
      },
      "execution_count": null,
      "outputs": []
    },
    {
      "cell_type": "code",
      "source": [
        "df.head()"
      ],
      "metadata": {
        "id": "5gSHwwFCWqAC"
      },
      "execution_count": null,
      "outputs": []
    },
    {
      "cell_type": "code",
      "source": [
        "columns_to_keep = ['loan_amnt','term','int_rate','installment','grade','sub_grade','emp_length','home_ownership', 'annual_inc', 'purpose', 'dti',\n",
        "    'loan_status', 'delinq_2yrs', 'fico_range_high', 'fico_range_low']\n",
        "df = df[columns_to_keep]\n",
        "df = df.dropna(subset=['loan_status'])"
      ],
      "metadata": {
        "id": "Kt6FBk2bW6ik"
      },
      "execution_count": null,
      "outputs": []
    },
    {
      "cell_type": "markdown",
      "source": [
        "I selected columns which were important for my analysis. I inspected missing values in the selected columns and dropped columns with too many nulls."
      ],
      "metadata": {
        "id": "NwOVmc15LoSv"
      }
    },
    {
      "cell_type": "code",
      "source": [
        "df.head()"
      ],
      "metadata": {
        "id": "LM_rVVycLJQw"
      },
      "execution_count": null,
      "outputs": []
    },
    {
      "cell_type": "code",
      "source": [
        "# The loan_status column includes multiple repayment outcomes like 'Fully Paid', 'Charged Off', and 'Late'\n",
        "\n",
        "df['loan_status'].value_counts()"
      ],
      "metadata": {
        "id": "6bxldvrtMDB0"
      },
      "execution_count": null,
      "outputs": []
    },
    {
      "cell_type": "code",
      "source": [
        "# For modeling, I’ll simplify this to a binary outcome: ‘Default’ or ‘Non-Default’\n",
        "\n",
        "default_status =['Charged Off','Default','Late (31-120 days)','Late (16-30 days)','In Grace Period']\n",
        "df['loan_condition'] = df['loan_status'].apply(lambda x: 'Default' if x in default_status else 'Non-Default')\n",
        "df['default_flag'] = df['loan_condition'].apply(lambda x:1 if x=='Default' else 0)\n",
        "\n",
        "# Checking the distribution\n",
        "\n",
        "df['default_flag'].value_counts(normalize=True)"
      ],
      "metadata": {
        "id": "CVWd5hlaMRWs"
      },
      "execution_count": null,
      "outputs": []
    },
    {
      "cell_type": "markdown",
      "source": [
        "I created a new column default_flag to identify defaulted loans (1) vs. non-defaulted loans (0). This simplifies analysis and allows to build a binary classification model later\n"
      ],
      "metadata": {
        "id": "krQhQpcGN9vb"
      }
    },
    {
      "cell_type": "markdown",
      "source": [
        "## Exploratory Data Analysis"
      ],
      "metadata": {
        "id": "XkEI_g1LOXi3"
      }
    },
    {
      "cell_type": "code",
      "source": [
        "# Number of rows and columns\n",
        "df.shape"
      ],
      "metadata": {
        "id": "FKKL9EdeNmZK"
      },
      "execution_count": null,
      "outputs": []
    },
    {
      "cell_type": "code",
      "source": [
        "# Data types & null counts\n",
        "df.info()"
      ],
      "metadata": {
        "id": "GzbC8fSnOeHS"
      },
      "execution_count": null,
      "outputs": []
    },
    {
      "cell_type": "code",
      "source": [
        "# Summary statistics for numerical columns\n",
        "df.describe()"
      ],
      "metadata": {
        "id": "3zLbeT1vOoOK"
      },
      "execution_count": null,
      "outputs": []
    },
    {
      "cell_type": "code",
      "source": [
        "# Distribution of loan amount\n",
        "\n",
        "plt.figure(figsize=(8,5))\n",
        "sns.histplot(df['loan_amnt'],bins=40,kde=True)\n",
        "plt.title('Distribution of Loan Amount')\n",
        "plt.xlabel('Loan Amount ($)')\n",
        "plt.ylabel('Frequency')\n",
        "plt.show()"
      ],
      "metadata": {
        "id": "-HxNvhzGO5_n"
      },
      "execution_count": null,
      "outputs": []
    },
    {
      "cell_type": "markdown",
      "source": [
        "Majority of the loans fall between $5000-$20000 and very few borrowers request loan amounts greater than $30000"
      ],
      "metadata": {
        "id": "L0SqlA4vPvlc"
      }
    },
    {
      "cell_type": "code",
      "source": [
        "# Distribution of interest amount\n",
        "\n",
        "plt.figure(figsize=(8,5))\n",
        "sns.histplot(df['int_rate'],bins=40,kde=True,color='orange')\n",
        "plt.title('Distribution of Interest Rate')\n",
        "plt.xlabel('Interest Rate (%)')\n",
        "plt.ylabel('Frequency')\n",
        "plt.show()"
      ],
      "metadata": {
        "id": "wMcEO5bQPj-o"
      },
      "execution_count": null,
      "outputs": []
    },
    {
      "cell_type": "markdown",
      "source": [
        "Interest rates mostly range between 6% and 25%, including a wide variation in borrower risk profiles"
      ],
      "metadata": {
        "id": "rIFJUKpwQSb9"
      }
    },
    {
      "cell_type": "code",
      "source": [
        "# Loan term\n",
        "\n",
        "term_pie = df['term'].value_counts()\n",
        "\n",
        "plt.figure(figsize=(4,4))\n",
        "plt.pie(term_pie, labels=term_pie.index,autopct='%1.1f%%', colors=['#66c2a5', '#fc8d62'], startangle=140)\n",
        "plt.title('Loan Term Distribution')\n",
        "plt.axis('equal')  # Equal aspect ratio ensures the pie is circular.\n",
        "plt.show()"
      ],
      "metadata": {
        "id": "qUj2u-OpQI9P"
      },
      "execution_count": null,
      "outputs": []
    },
    {
      "cell_type": "markdown",
      "source": [
        "The dataset contains loans with terms of either 36 or 60 months. As seen from the plot, a larger proportion of loans are issued with a 36-month term. Understanding loan term distribution helps assess repayment timelines and associated credit risk — typically, longer-term loans are more likely to default due to increased exposure to economic fluctuations"
      ],
      "metadata": {
        "id": "kYN8hnFQRgxX"
      }
    },
    {
      "cell_type": "code",
      "source": [
        "# Correlation matrix\n",
        "\n",
        "numeric_cols = ['loan_amnt', 'int_rate', 'annual_inc', 'dti', 'fico_range_high', 'default_flag']\n",
        "\n",
        "plt.figure(figsize=(10,6))\n",
        "sns.heatmap(df[numeric_cols].corr(), annot=True, cmap='coolwarm', fmt=\".2f\")\n",
        "plt.title('Correlation Matrix')\n",
        "plt.show()"
      ],
      "metadata": {
        "id": "lOWOT49UQuBP"
      },
      "execution_count": null,
      "outputs": []
    },
    {
      "cell_type": "markdown",
      "source": [
        "Default flag shows weak but positive correlation with interest rate and DTI, and negative correlation with FICO score"
      ],
      "metadata": {
        "id": "dQABZ-qlS8rK"
      }
    },
    {
      "cell_type": "code",
      "source": [
        "# Default rate by Loan Term\n",
        "\n",
        "term_default = df.groupby('term')['default_flag'].mean().reset_index()\n",
        "\n",
        "plt.figure(figsize=(8,5))\n",
        "sns.barplot(x='term',y='default_flag',data=term_default,palette='viridis')\n",
        "plt.title('Default Rate by Loan Term')\n",
        "plt.xlabel('Loan Term')\n",
        "plt.ylabel('Default Rate')\n",
        "plt.show()"
      ],
      "metadata": {
        "id": "fiipB7KgSbTN"
      },
      "execution_count": null,
      "outputs": []
    },
    {
      "cell_type": "markdown",
      "source": [
        "It is evident from the bar chart that borrowers with a term of 60 months are more prone to default as compared to the shorter term borrowers"
      ],
      "metadata": {
        "id": "rEPXTLgL55Fb"
      }
    },
    {
      "cell_type": "code",
      "source": [
        "# Default rate by Grade\n",
        "\n",
        "grade_default = df.groupby('grade')['default_flag'].mean().reset_index()\n",
        "\n",
        "plt.figure(figsize=(8,5))\n",
        "sns.barplot(x='grade',y='default_flag',data=grade_default,order=sorted(df['grade'].unique()))\n",
        "plt.title('Default Rate by Grade')\n",
        "plt.xlabel('Grade')\n",
        "plt.ylabel('Default Rate')\n",
        "plt.show()"
      ],
      "metadata": {
        "id": "jy75HiOU5akm"
      },
      "execution_count": null,
      "outputs": []
    },
    {
      "cell_type": "markdown",
      "source": [
        "Lower grades (E,F,G) have higher default rates as compared to higher grades (A,B)"
      ],
      "metadata": {
        "id": "mA8gvrfC7ftn"
      }
    },
    {
      "cell_type": "code",
      "source": [
        "# Default rate by Loan Purpose\n",
        "\n",
        "purpose_default = df.groupby('purpose')['default_flag'].mean().sort_values(ascending=False)\n",
        "\n",
        "\n",
        "purpose_default.plot(kind='barh', figsize=(8,5), color='salmon')\n",
        "plt.title('Default Rate by Loan Purpose')\n",
        "plt.xlabel('Default Rate')\n",
        "plt.ylabel('Loan Purpose')\n",
        "plt.show()"
      ],
      "metadata": {
        "id": "ax0xgyDK7L73"
      },
      "execution_count": null,
      "outputs": []
    },
    {
      "cell_type": "markdown",
      "source": [
        "Borrowers who took the loan for small house or renewable energy show higher risk, while credit card refinancing or car financing are relatively safer"
      ],
      "metadata": {
        "id": "VL-f_yvF902u"
      }
    },
    {
      "cell_type": "code",
      "source": [
        "# Default rate by FICO Range\n",
        "\n",
        "plt.figure(figsize=(10,6))\n",
        "sns.boxplot(x='default_flag', y='fico_range_high', data=df)\n",
        "plt.title('FICO Score Distribution by Default Flag')\n",
        "plt.xlabel('Default Flag')\n",
        "plt.ylabel('FICO Score (High Range)')\n",
        "plt.show()"
      ],
      "metadata": {
        "id": "pXpyABzZ77eA"
      },
      "execution_count": null,
      "outputs": []
    },
    {
      "cell_type": "markdown",
      "source": [
        "Borrowers who defualted tend to have lower FICO scores"
      ],
      "metadata": {
        "id": "VfKIbbtWAYsa"
      }
    },
    {
      "cell_type": "markdown",
      "source": [
        "## Risk Bands"
      ],
      "metadata": {
        "id": "ZePI3NPPAzdU"
      }
    },
    {
      "cell_type": "code",
      "source": [
        "df['fico_avg'] = (df['fico_range_low']+df['fico_range_high'])/2"
      ],
      "metadata": {
        "id": "pmPQlGKl-bm5"
      },
      "execution_count": null,
      "outputs": []
    },
    {
      "cell_type": "code",
      "source": [
        "# Risk band function\n",
        "\n",
        "def assing_risk_band(row):\n",
        "    if row['fico_avg']>=750 and row['dti']<=15:\n",
        "        return 'Low Risk'\n",
        "    elif row['fico_avg']>=680 and row['dti']<=25:\n",
        "        return 'Medium Risk'\n",
        "    else:\n",
        "        return 'High Risk'\n",
        "\n",
        "df['risk_band'] = df.apply(assing_risk_band,axis=1)"
      ],
      "metadata": {
        "id": "Kz5kuQAdA9jn"
      },
      "execution_count": null,
      "outputs": []
    },
    {
      "cell_type": "code",
      "source": [
        "df['risk_band'].value_counts(normalize=True)"
      ],
      "metadata": {
        "id": "OWi-MM0kBkJQ"
      },
      "execution_count": null,
      "outputs": []
    },
    {
      "cell_type": "code",
      "source": [
        "# Defualt rate by Risk Band\n",
        "\n",
        "risk_default = df.groupby('risk_band')['default_flag'].mean().sort_values()\n",
        "\n",
        "risk_default.plot(kind='bar', color='teal', figsize=(7,4))\n",
        "plt.title('Default Rate by Risk Band')\n",
        "plt.xlabel('Risk Band')\n",
        "plt.ylabel('Default Rate')\n",
        "plt.show()"
      ],
      "metadata": {
        "id": "xcXeuMRXB2uW"
      },
      "execution_count": null,
      "outputs": []
    },
    {
      "cell_type": "markdown",
      "source": [
        "**Risk Segmentation:**\n",
        "I have used FICO score and DTI to classify borrowers into three risk categories: Low, Medium, and High. As expected, default rates are highest in the High Risk band, validating the segmentation logic. This helps credit analysts focus on riskier borrower profiles during loan review"
      ],
      "metadata": {
        "id": "HL2ZTdbdCQk_"
      }
    },
    {
      "cell_type": "markdown",
      "source": [
        "📌 Final Analysis Summary – Loan Risk Analytics\n",
        "\n",
        "This analysis explored real-world LendingClub loan data to identify factors associated with loan defaults and to classify borrowers into risk bands for better credit decisions.\n",
        "\n",
        "Key findings from the EDA:\n",
        "- Borrowers opting for longer-term loans (60 months) show a higher likelihood of default than those with 36-month terms.\n",
        "- Lower credit grades (E, F, G) and lower FICO scores are strongly associated with increased default rates.\n",
        "- Loans taken for high-risk purposes such as small business or renewable energy exhibit higher default likelihood compared to credit card refinancing or debt consolidation.\n",
        "- A rise in interest rate and DTI (debt-to-income) is generally associated with greater risk of default.\n",
        "\n",
        "Risk segmentation was then performed based on FICO score and DTI:\n",
        "- Borrowers with high FICO scores and low DTI were classified as Low Risk.\n",
        "- Those with mid-range credit scores and moderate DTI were classified as Medium Risk.\n",
        "- Low credit scores or high DTI borrowers were placed in the High Risk segment.\n",
        "\n",
        "The default rate analysis across these risk bands validated this logic, showing a clear increase in default likelihood from Low to High Risk groups.\n",
        "\n",
        "🎯 Business Implication:\n",
        "These insights can help financial institutions build stronger credit filters, prioritize low-risk applicants, and design interest rates or loan products that better match the risk profile of borrowers.\n",
        "\n",
        "This project demonstrates how data-driven insights can enhance credit risk management, even without predictive modeling.\n"
      ],
      "metadata": {
        "id": "i6kgneyCFPGV"
      }
    },
    {
      "cell_type": "code",
      "source": [
        "from google.colab import files\n",
        "df.to_csv('loan_risk_analysis_final.csv', index=False)\n",
        "files.download('loan_risk_analysis_final.csv')"
      ],
      "metadata": {
        "id": "tSkinaIqGJdr"
      },
      "execution_count": null,
      "outputs": []
    },
    {
      "cell_type": "code",
      "source": [],
      "metadata": {
        "id": "LaCF9Z7fGJ6n"
      },
      "execution_count": null,
      "outputs": []
    }
  ]
}